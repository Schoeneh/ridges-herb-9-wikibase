{
 "cells": [
  {
   "cell_type": "markdown",
   "id": "bf48880a",
   "metadata": {},
   "source": [
    "# Getting metadata of all documents\n",
    "Using the original Excel-data"
   ]
  },
  {
   "cell_type": "markdown",
   "id": "267537f7",
   "metadata": {},
   "source": [
    "## Downloading all documents (.xlxs)\n",
    "1. Download the documents from https://www.laudatio-repository.org:<br>\n",
    "https://www.laudatio-repository.org/download/format/3/35/9.0\n",
    "2. Unzip the file 'Excel_9-0.zip' in the directory 'data/documents'\n",
    "3. Run the following script to extract and merge the metadata of each document in one Table (.csv)"
   ]
  },
  {
   "cell_type": "markdown",
   "id": "a5543165",
   "metadata": {},
   "source": [
    "### Modules"
   ]
  },
  {
   "cell_type": "code",
   "execution_count": 1,
   "id": "5c98a5c5",
   "metadata": {
    "ExecuteTime": {
     "end_time": "2022-12-07T08:53:24.075902Z",
     "start_time": "2022-12-07T08:53:23.195913Z"
    }
   },
   "outputs": [],
   "source": [
    "import os\n",
    "import pandas as pd"
   ]
  },
  {
   "cell_type": "markdown",
   "id": "c9f8867f",
   "metadata": {},
   "source": [
    "### Script"
   ]
  },
  {
   "cell_type": "code",
   "execution_count": 2,
   "id": "fc6f24ca",
   "metadata": {
    "ExecuteTime": {
     "end_time": "2022-12-07T08:53:25.231108Z",
     "start_time": "2022-12-07T08:53:25.207240Z"
    }
   },
   "outputs": [],
   "source": [
    "path = r'documents\\Excel_9-0\\RIDGES_Herbology'\n",
    "file_list = []\n",
    "files = []\n",
    "\n",
    "metadata = pd.DataFrame(columns=[\n",
    "    'file_name',\n",
    "    'title',\n",
    "    'author',\n",
    "    'translator',\n",
    "    'trans_from',\n",
    "    'date',\n",
    "    'place',\n",
    "    'publisher',\n",
    "    'bibl',\n",
    "    'version',\n",
    "    'editor',\n",
    "    'edition_first',\n",
    "    'issue',\n",
    "    'maintopic',\n",
    "    'register',\n",
    "    'topic',\n",
    "    'lingualism',\n",
    "    'orig_date',\n",
    "    'orig_place',\n",
    "    'repository',\n",
    "    'lang_type',\n",
    "    'lang_area',\n",
    "    'text_type',\n",
    "    'lyric_type',\n",
    "    'wormwood',\n",
    "    'herb_sorting'])\n"
   ]
  },
  {
   "cell_type": "code",
   "execution_count": 3,
   "id": "0681de6b",
   "metadata": {
    "ExecuteTime": {
     "end_time": "2022-12-07T08:53:28.120524Z",
     "start_time": "2022-12-07T08:53:28.097523Z"
    }
   },
   "outputs": [],
   "source": [
    "for root, directories, file in os.walk(path):\n",
    "    for file in file:\n",
    "        if(file.endswith(\".xlsx\")):\n",
    "            file_list.append(os.path.join(root,file))\n",
    "            files.append(os.path.join(file))"
   ]
  },
  {
   "cell_type": "code",
   "execution_count": 6,
   "id": "136bdf18",
   "metadata": {
    "ExecuteTime": {
     "end_time": "2022-12-07T08:56:55.823200Z",
     "start_time": "2022-12-07T08:56:43.853243Z"
    }
   },
   "outputs": [
    {
     "name": "stderr",
     "output_type": "stream",
     "text": [
      "C:\\ProgramData\\Anaconda3\\lib\\site-packages\\openpyxl\\worksheet\\_read_only.py:79: UserWarning: Unknown extension is not supported and will be removed\n",
      "  for idx, row in parser.parse():\n",
      "C:\\ProgramData\\Anaconda3\\lib\\site-packages\\openpyxl\\worksheet\\_read_only.py:79: UserWarning: Unknown extension is not supported and will be removed\n",
      "  for idx, row in parser.parse():\n",
      "C:\\ProgramData\\Anaconda3\\lib\\site-packages\\openpyxl\\worksheet\\_read_only.py:79: UserWarning: Unknown extension is not supported and will be removed\n",
      "  for idx, row in parser.parse():\n"
     ]
    }
   ],
   "source": [
    "for i in range(len(files)):\n",
    "    file_name = str(files[i]).split('.')\n",
    "    metadata.at[i,'file_name'] = file_name[0]\n",
    "    df = pd.read_excel(file_list[i], 1)\n",
    "    metadata.at[i,'title'] = df.at[0,'Value']\n",
    "    metadata.at[i,'author'] = df.at[1,'Value',]\n",
    "    metadata.at[i,'translator'] = df.at[2,'Value']\n",
    "    metadata.at[i,'trans_from'] = df.at[3,'Value']\n",
    "    metadata.at[i,'date'] = df.at[4,'Value']\n",
    "    metadata.at[i,'place'] = df.at[5,'Value'] \n",
    "    metadata.at[i,'publisher'] = df.at[6,'Value']\n",
    "    metadata.at[i,'bibl'] = df.at[7,'Value']\n",
    "    metadata.at[i,'version'] = df.at[8,'Value']\n",
    "    metadata.at[i,'editor'] = df.at[9,'Value']\n",
    "    metadata.at[i,'edition_first'] = df.at[10,'Value']\n",
    "    metadata.at[i,'issue'] = df.at[11,'Value']\n",
    "    metadata.at[i,'maintopic'] = df.at[12,'Value']\n",
    "    metadata.at[i,'register'] = df.at[13,'Value']\n",
    "    metadata.at[i,'topic'] = df.at[14,'Value']\n",
    "    metadata.at[i,'lingualism'] = df.at[15,'Value']\n",
    "    metadata.at[i,'orig_date'] = df.at[16,'Value']\n",
    "    metadata.at[i,'orig_place'] = df.at[17,'Value']\n",
    "    metadata.at[i,'repository'] = df.at[18,'Value']\n",
    "    metadata.at[i,'lang_type'] = df.at[19,'Value']\n",
    "    metadata.at[i,'lang_area'] = df.at[20,'Value']\n",
    "    metadata.at[i,'text_type'] = df.at[21,'Value']\n",
    "    metadata.at[i,'lyric_type'] = df.at[22,'Value']\n",
    "    metadata.at[i,'wormwood'] = df.at[23,'Value']\n",
    "    metadata.at[i,'herb_sorting'] = df.at[24,'Value']\n",
    "    \n",
    "metadata.to_csv(r'doc_metadata.csv')"
   ]
  }
 ],
 "metadata": {
  "kernelspec": {
   "display_name": "Python 3 (ipykernel)",
   "language": "python",
   "name": "python3"
  },
  "language_info": {
   "codemirror_mode": {
    "name": "ipython",
    "version": 3
   },
   "file_extension": ".py",
   "mimetype": "text/x-python",
   "name": "python",
   "nbconvert_exporter": "python",
   "pygments_lexer": "ipython3",
   "version": "3.9.7"
  },
  "toc": {
   "base_numbering": 1,
   "nav_menu": {},
   "number_sections": true,
   "sideBar": true,
   "skip_h1_title": false,
   "title_cell": "Table of Contents",
   "title_sidebar": "Contents",
   "toc_cell": false,
   "toc_position": {},
   "toc_section_display": true,
   "toc_window_display": false
  },
  "varInspector": {
   "cols": {
    "lenName": 16,
    "lenType": 16,
    "lenVar": 40
   },
   "kernels_config": {
    "python": {
     "delete_cmd_postfix": "",
     "delete_cmd_prefix": "del ",
     "library": "var_list.py",
     "varRefreshCmd": "print(var_dic_list())"
    },
    "r": {
     "delete_cmd_postfix": ") ",
     "delete_cmd_prefix": "rm(",
     "library": "var_list.r",
     "varRefreshCmd": "cat(var_dic_list()) "
    }
   },
   "position": {
    "height": "250.85px",
    "left": "902px",
    "right": "20px",
    "top": "120px",
    "width": "350px"
   },
   "types_to_exclude": [
    "module",
    "function",
    "builtin_function_or_method",
    "instance",
    "_Feature"
   ],
   "window_display": true
  }
 },
 "nbformat": 4,
 "nbformat_minor": 5
}
