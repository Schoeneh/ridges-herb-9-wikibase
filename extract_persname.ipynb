{
 "cells": [
  {
   "cell_type": "markdown",
   "id": "4735a581",
   "metadata": {},
   "source": [
    "# Extracting 'persname' and (specific context) from RIDGES Herb. 9.0 using graphANNIS\n",
    "Created on Wed Sept 14 21:30 2022 by Henrik Schönemann </br>\n",
    "\n",
    "specific context: dipl-token; dipl-context (15 left/right); pb_n; doc; dipl-ids\n",
    "\n",
    "Before running the script you need to download the corpus-data from https://www.laudatio-repository.org/browse/corpus/PySSCnMB7CArCQ9CNKFY/corpora\n",
    "https://github.com/korpling/graphANNIS <br/>\n",
    "https://graphannis-python.readthedocs.io/en/stable/"
   ]
  },
  {
   "cell_type": "markdown",
   "id": "bb86c94d",
   "metadata": {},
   "source": [
    "## Modules"
   ]
  },
  {
   "cell_type": "code",
   "execution_count": 1,
   "id": "a3db9f9b",
   "metadata": {
    "ExecuteTime": {
     "end_time": "2022-12-05T16:02:23.367459Z",
     "start_time": "2022-12-05T16:02:20.253952Z"
    }
   },
   "outputs": [],
   "source": [
    "###Modules for showing progress and elapsed time\n",
    "from progress.bar import Bar\n",
    "from timeit import default_timer as timer\n",
    "from datetime import timedelta\n",
    "import time\n",
    "\n",
    "###Modules for dealing with data\n",
    "import networkx as nx\n",
    "import pandas as pd\n",
    "import re #regular expressions\n",
    "\n",
    "###Module for removing any ANSI-Escape-Sequences in prompt/terminal\n",
    "import os\n",
    "os.system(\"\")\n",
    "\n",
    "###graphANNIS-Modules\n",
    "from graphannis.cs import CorpusStorageManager\n",
    "from graphannis.util import node_name_from_match"
   ]
  },
  {
   "cell_type": "markdown",
   "id": "647564fa",
   "metadata": {},
   "source": [
    "## Script"
   ]
  },
  {
   "cell_type": "code",
   "execution_count": 6,
   "id": "44f3b484",
   "metadata": {
    "ExecuteTime": {
     "end_time": "2022-12-05T16:04:10.672849Z",
     "start_time": "2022-12-05T16:03:37.879380Z"
    }
   },
   "outputs": [
    {
     "name": "stdout",
     "output_type": "stream",
     "text": [
      "Accessing corpus 'RIDGES_Herbology_Version9.0' via graphANNIS:\n",
      "Query: persname\n",
      "Querying... \n",
      "Iterating over matched nodes...\n"
     ]
    },
    {
     "ename": "KeyboardInterrupt",
     "evalue": "",
     "output_type": "error",
     "traceback": [
      "\u001b[1;31m---------------------------------------------------------------------------\u001b[0m",
      "\u001b[1;31mKeyboardInterrupt\u001b[0m                         Traceback (most recent call last)",
      "Input \u001b[1;32mIn [6]\u001b[0m, in \u001b[0;36m<cell line: 1>\u001b[1;34m()\u001b[0m\n\u001b[0;32m     90\u001b[0m \u001b[38;5;124;03m\"\"\"--- Section 2.4: Creating subgraphs for all dipl-node[i]-ids and dipl_ctx[i]-ids---\"\"\"\u001b[39;00m\n\u001b[0;32m     92\u001b[0m dipl_subg \u001b[38;5;241m=\u001b[39m csm\u001b[38;5;241m.\u001b[39msubgraph(corp, dipl_nodes)    \n\u001b[1;32m---> 94\u001b[0m dipl_ctx_subg \u001b[38;5;241m=\u001b[39m \u001b[43mcsm\u001b[49m\u001b[38;5;241;43m.\u001b[39;49m\u001b[43msubgraph\u001b[49m\u001b[43m(\u001b[49m\u001b[43mcorp\u001b[49m\u001b[43m,\u001b[49m\u001b[43m \u001b[49m\u001b[43mdipl_ctx_list\u001b[49m\u001b[43m)\u001b[49m\n\u001b[0;32m     97\u001b[0m tmp \u001b[38;5;241m=\u001b[39m [] \u001b[38;5;66;03m#Used for dipl-tokens\u001b[39;00m\n\u001b[0;32m     98\u001b[0m tmp_ctx \u001b[38;5;241m=\u001b[39m [] \u001b[38;5;66;03m#Used for dipl_ctx-tokens\u001b[39;00m\n",
      "File \u001b[1;32m~\\AppData\\Roaming\\Python\\Python39\\site-packages\\graphannis\\cs.py:259\u001b[0m, in \u001b[0;36mCorpusStorageManager.subgraph\u001b[1;34m(self, corpus_name, node_ids, ctx_left, ctx_right, segmentation)\u001b[0m\n\u001b[0;32m    256\u001b[0m     CAPI\u001b[38;5;241m.\u001b[39mannis_vec_str_push(c_node_ids, nid\u001b[38;5;241m.\u001b[39mencode(\u001b[38;5;124m'\u001b[39m\u001b[38;5;124mutf-8\u001b[39m\u001b[38;5;124m'\u001b[39m))\n\u001b[0;32m    258\u001b[0m err \u001b[38;5;241m=\u001b[39m ffi\u001b[38;5;241m.\u001b[39mnew(\u001b[38;5;124m\"\u001b[39m\u001b[38;5;124mAnnisErrorList **\u001b[39m\u001b[38;5;124m\"\u001b[39m)\n\u001b[1;32m--> 259\u001b[0m db \u001b[38;5;241m=\u001b[39m \u001b[43mCAPI\u001b[49m\u001b[38;5;241;43m.\u001b[39;49m\u001b[43mannis_cs_subgraph\u001b[49m\u001b[43m(\u001b[49m\u001b[38;5;28;43mself\u001b[39;49m\u001b[38;5;241;43m.\u001b[39;49m\u001b[43m__cs\u001b[49m\u001b[43m,\u001b[49m\u001b[43m \u001b[49m\u001b[43mcorpus_name\u001b[49m\u001b[38;5;241;43m.\u001b[39;49m\u001b[43mencode\u001b[49m\u001b[43m(\u001b[49m\u001b[38;5;124;43m'\u001b[39;49m\u001b[38;5;124;43mutf-8\u001b[39;49m\u001b[38;5;124;43m'\u001b[39;49m\u001b[43m)\u001b[49m\u001b[43m,\u001b[49m\n\u001b[0;32m    260\u001b[0m \u001b[43m                            \u001b[49m\u001b[43mc_node_ids\u001b[49m\u001b[43m,\u001b[49m\u001b[43m \u001b[49m\u001b[43mctx_left\u001b[49m\u001b[43m,\u001b[49m\u001b[43m \u001b[49m\u001b[43mctx_right\u001b[49m\u001b[43m,\u001b[49m\n\u001b[0;32m    261\u001b[0m \u001b[43m                            \u001b[49m\u001b[43mffi\u001b[49m\u001b[38;5;241;43m.\u001b[39;49m\u001b[43mNULL\u001b[49m\u001b[43m \u001b[49m\u001b[38;5;28;43;01mif\u001b[39;49;00m\u001b[43m \u001b[49m\u001b[43msegmentation\u001b[49m\u001b[43m \u001b[49m\u001b[38;5;241;43m==\u001b[39;49m\u001b[43m \u001b[49m\u001b[38;5;28;43;01mNone\u001b[39;49;00m\u001b[43m \u001b[49m\u001b[38;5;28;43;01melse\u001b[39;49;00m\u001b[43m \u001b[49m\u001b[43msegmentation\u001b[49m\u001b[38;5;241;43m.\u001b[39;49m\u001b[43mencode\u001b[49m\u001b[43m(\u001b[49m\n\u001b[0;32m    262\u001b[0m \u001b[43m                                \u001b[49m\u001b[38;5;124;43m'\u001b[39;49m\u001b[38;5;124;43mutf-8\u001b[39;49m\u001b[38;5;124;43m'\u001b[39;49m\u001b[43m)\u001b[49m\u001b[43m,\u001b[49m\n\u001b[0;32m    263\u001b[0m \u001b[43m                            \u001b[49m\u001b[43merr\u001b[49m\u001b[43m)\u001b[49m\n\u001b[0;32m    264\u001b[0m consume_errors(err)\n\u001b[0;32m    266\u001b[0m G \u001b[38;5;241m=\u001b[39m map_graph(db)\n",
      "\u001b[1;31mKeyboardInterrupt\u001b[0m: "
     ]
    }
   ],
   "source": [
    "with CorpusStorageManager(db_dir=r'C:\\Users\\henri\\OneDrive\\Desktop\\Wikibase-BA\\Daten-Pipeline\\corpus-data') as csm:\n",
    "    \n",
    "    \"\"\"--- Section 1: Querying the corpus ---\"\"\"\n",
    "\n",
    "    corp = 'RIDGES_Herbology_Version9.0'\n",
    "    query = 'persname' ###AQL-Query\n",
    "    #query = 'persname=\"Carl_von_Linné\"' ###AQL-Query for testing; usually ignored\n",
    "    \n",
    "    print(\"Accessing corpus '\" + corp + \"' via graphANNIS:\")\n",
    "    print(\"Query: \" + query)\n",
    "\n",
    "    ###Querying corpus\n",
    "    print('Querying... ')\n",
    "    start_query = timer() ###Timer-Start for query\n",
    "    pers = csm.find(corp, query, limit=100000) ###default limit = 10\n",
    "    end_query = timer() ###Timer-End for query\n",
    "\n",
    "    \"\"\"--- Section 2: Iterating over matched nodes ---\"\"\"\n",
    "    ###Constructing table as pandas DataFrame\n",
    "    table = pd.DataFrame(columns=['persname', 'dipl', 'dipl_ctx_lr15', 'pb_n', 'doc', 'dipl-ids'])\n",
    "    \n",
    "    ###Iterating over matched nodes i in range(len(pers))\n",
    "    print(\"Iterating over matched nodes...\")\n",
    "    start_table = timer() #Timer-Start for iterating and writing\n",
    "    \n",
    "    with Bar('Processing', max=len(pers)) as bar: #Displaying a progress-bar in prompt/terminal\n",
    "        for i in range(len(pers)):\n",
    "            \"\"\"--- Section 2.1: Creating subgraph for node[i] ---\"\"\"\n",
    "            \n",
    "            ###Getting node-id from node-name\n",
    "            node = node_name_from_match(pers[i])\n",
    "            pers_subg = csm.subgraph(corp, node)\n",
    "            \n",
    "            \"\"\"--- Section 2.2: Getting node-ids for all dipl-tokens in subgraph.(pers[i]) ---\"\"\"\n",
    "            \n",
    "            ###Constructing edgelist of subgraph(node[i]) as pandas Dataframe via networkx\n",
    "            subg_edgelist = nx.to_pandas_edgelist(pers_subg)\n",
    "            \n",
    "            ###Transforming source-nodes in edgelist to node-ids\n",
    "            subg_edgelist['source'] = subg_edgelist['source'].str.replace(r'salt:/', '')\n",
    "            ###Getting all but one node-ids for dipl-tokens\n",
    "            edgelist_dipl = subg_edgelist.loc[subg_edgelist['annis::component_name'] == 'dipl']\n",
    "            \n",
    "            ###Concatenating all dipl-node[i]-ids in one list & sorting\n",
    "            dipl_nodes_list = edgelist_dipl['source'].values.tolist()\n",
    "            dipl_nodes_list.sort()\n",
    "            \n",
    "            ###Infering the last dipl-node-id via splitting of penultimate dipl-node-id\n",
    "            ###e.g. 'RIDGES_Herbology_Version9.0/BeschreibungDerGraeser-c27-31_1769_Schrebers#sTok2168_virtualSpan' -> 'sTok2168_virtualSpan'\n",
    "            if len(dipl_nodes_list) == 0: #If only one dipl-node\n",
    "                dipl_nodes = node\n",
    "                dipl_node_penult = dipl_nodes[0].split('#')\n",
    "            else: #If more then one dipl-node\n",
    "                dipl_nodes = dipl_nodes_list\n",
    "                dipl_node_penult = dipl_nodes[len(dipl_nodes)-1].split('#')\n",
    "            \n",
    "            ###Extracting the integer in second part of penultimate dipl-node-id and adding 1\n",
    "            num = int(re.sub(\"\\D\", \"\", dipl_node_penult[1])) + 1\n",
    "            ###Generating the last dipl-node-id by combining parts of penultimate dipl-node-id with the new integer\n",
    "            dipl_node_last = dipl_node_penult[0] + \"#sTok\" + str(num) + \"_virtualSpan\"\n",
    "            \n",
    "            ###Adding the last dipl-node-id to the list of dipl-node-ids for match[i]\n",
    "            dipl_nodes.append(dipl_node_last)\n",
    "            \n",
    "            table.at[i, 'dipl-ids'] = dipl_nodes\n",
    "            \n",
    "            \"\"\"--- Section 2.3: Getting node-ids for all dipl_ctx-tokens (15 left and right) in subgraph.(pers[i]) ---\"\"\"\n",
    "\n",
    "            dipl_ctx_subg = csm.subgraph(corp, dipl_nodes, ctx_left=15, ctx_right=15)\n",
    "            dipl_ctx_subg_edgelist = nx.to_pandas_edgelist(dipl_ctx_subg)\n",
    "            \n",
    "            ###Transforming source-nodes in edgelist to node-ids\n",
    "            dipl_ctx_subg_edgelist['source'] = dipl_ctx_subg_edgelist['source'].str.replace(r'salt:/', '')\n",
    "            ###Getting all but one node-ids for dipl-tokens\n",
    "            dipl_ctx_subg_edgelist = dipl_ctx_subg_edgelist.loc[dipl_ctx_subg_edgelist['annis::component_name'] == 'dipl']\n",
    "            \n",
    "            ###Concatenating all dipl_ctx-node[i]-ids in one list & sorting\n",
    "            dipl_ctx_list = dipl_ctx_subg_edgelist['source'].values.tolist()\n",
    "            dipl_ctx_list.sort()\n",
    "            \n",
    "            dipl_ctx_node_penult = dipl_ctx_list[len(dipl_ctx_list)-1].split('#')\n",
    "            ###Extracting the integer in second part of penultimate dipl-node-id and adding 1\n",
    "            num = int(re.sub(\"\\D\", \"\", dipl_ctx_node_penult[1])) + 1\n",
    "            ###Generating the last dipl_ctx-node-id by combining parts of penultimate dipl-node-id with the new integer\n",
    "            dipl_ctx__node_last = dipl_ctx_node_penult[0] + \"#sTok\" + str(num) + \"_virtualSpan\"\n",
    "            \n",
    "            ###Adding the last dipl-node-id to the list of dipl-node-ids for match[i]\n",
    "            dipl_ctx_list.append(dipl_ctx__node_last)\n",
    "            \n",
    "            \"\"\"--- Section 2.4: Creating subgraphs for all dipl-node[i]-ids and dipl_ctx[i]-ids---\"\"\"\n",
    "\n",
    "            dipl_subg = csm.subgraph(corp, dipl_nodes)    \n",
    "            \n",
    "            dipl_ctx_subg = csm.subgraph(corp, dipl_ctx_list)\n",
    "            \n",
    "\n",
    "            tmp = [] #Used for dipl-tokens\n",
    "            tmp_ctx = [] #Used for dipl_ctx-tokens\n",
    "            page = False #Used for page number (pb_n)\n",
    "            \n",
    "            \n",
    "            for n in dipl_subg.nodes():\n",
    "                ###Extraction of all individual dipl-tokens for match[i]\n",
    "                if \"default_ns::dipl\" in dipl_subg.nodes[n]:\n",
    "                    dipl = dipl_subg.nodes[n][\"default_ns::dipl\"]\n",
    "                    tmp.append(dipl)\n",
    "                ###Extraction of persname-token for match[i]\n",
    "                if \"default_ns::persname\" in dipl_subg.nodes[n]:\n",
    "                    table.at[i, 'persname'] = dipl_subg.nodes[n][\"default_ns::persname\"]\n",
    "                ###Extraction of pb_n-token for match[i]\n",
    "                if \"default_ns::pb_n\" in dipl_subg.nodes[n]:\n",
    "                    table.at[i, 'pb_n'] = dipl_subg.nodes[n][\"default_ns::pb_n\"]\n",
    "                    page = True ###Set only if key(\"default_ns::pb_n\") exists\n",
    "            \n",
    "            for n in dipl_ctx_subg.nodes():\n",
    "                if \"default_ns::dipl\" in dipl_ctx_subg.nodes[n]:\n",
    "                    dipl = dipl_ctx_subg.nodes[n][\"default_ns::dipl\"]\n",
    "                    tmp_ctx.append(dipl)\n",
    "\n",
    "            ###Joining of all individual dipl- and dipl_ctx-tokens for match i\n",
    "            table.at[i, 'dipl'] = ' '.join(tmp)\n",
    "            table.at[i, 'dipl_ctx_lr15'] = ' '.join(tmp_ctx)\n",
    "            \n",
    "            ###Write \"NaN\" in column 'pb_n' if no key 'pb_n' exists\n",
    "            if page == False:\n",
    "                table.at[i, 'pb_n'] = \"NaN\"\n",
    "            \n",
    "            ###Extraction of metadata::doc for match i\n",
    "            ###Using first part of penultimate dipl-node-id\n",
    "            ####e.g. 'RIDGES_Herbology_Version9.0/BeschreibungDerGraeser-c27-31_1769_Schrebers#sTok2168_virtualSpan'\n",
    "            ####-> 'RIDGES_Herbology_Version9.0/BeschreibungDerGraeser-c27-31_1769_Schrebers'\n",
    "            doc = dipl_node_penult[0].split('/') \n",
    "            table.at[i, 'doc'] = doc[1].replace(r'%C3%BC', 'ü') #'ü' only umlaut in string(doc)\n",
    "\n",
    "            bar.next() #Next step in progress-bar\n",
    "            \n",
    "    bar.finish() #End of progress-bar\n",
    "    end_table = timer() #Timer-End for iterating and writing\n",
    "    \n",
    "    \"\"\"--- Section 3: Printing summary and writing output to file---\"\"\"\n",
    "\n",
    "    table.info(verbose=False) #'verbose=False' to not print per column information\n",
    "    print(table.head()) #Print first 5 rows\n",
    "    \n",
    "    table.to_csv(r'C:\\Users\\henri\\OneDrive\\Desktop\\Wikibase-BA\\Daten-Pipeline\\persname3.1_result.csv')\n",
    "    \n",
    "    print(\"---\")\n",
    "    print(\"Elapsed time for querying: \"+ str(timedelta(seconds=end_query-start_query)))\n",
    "    print(\"Elapsed time for writing: \"+ str(timedelta(seconds=end_table-start_table)))"
   ]
  }
 ],
 "metadata": {
  "kernelspec": {
   "display_name": "Python 3 (ipykernel)",
   "language": "python",
   "name": "python3"
  },
  "language_info": {
   "codemirror_mode": {
    "name": "ipython",
    "version": 3
   },
   "file_extension": ".py",
   "mimetype": "text/x-python",
   "name": "python",
   "nbconvert_exporter": "python",
   "pygments_lexer": "ipython3",
   "version": "3.9.7"
  },
  "toc": {
   "base_numbering": 1,
   "nav_menu": {},
   "number_sections": true,
   "sideBar": true,
   "skip_h1_title": false,
   "title_cell": "Table of Contents",
   "title_sidebar": "Contents",
   "toc_cell": false,
   "toc_position": {},
   "toc_section_display": true,
   "toc_window_display": false
  },
  "varInspector": {
   "cols": {
    "lenName": 16,
    "lenType": 16,
    "lenVar": 40
   },
   "kernels_config": {
    "python": {
     "delete_cmd_postfix": "",
     "delete_cmd_prefix": "del ",
     "library": "var_list.py",
     "varRefreshCmd": "print(var_dic_list())"
    },
    "r": {
     "delete_cmd_postfix": ") ",
     "delete_cmd_prefix": "rm(",
     "library": "var_list.r",
     "varRefreshCmd": "cat(var_dic_list()) "
    }
   },
   "types_to_exclude": [
    "module",
    "function",
    "builtin_function_or_method",
    "instance",
    "_Feature"
   ],
   "window_display": false
  }
 },
 "nbformat": 4,
 "nbformat_minor": 5
}
